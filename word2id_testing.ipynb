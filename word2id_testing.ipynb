{
 "cells": [
  {
   "cell_type": "code",
   "execution_count": 17,
   "metadata": {
    "collapsed": true,
    "deletable": true,
    "editable": true
   },
   "outputs": [],
   "source": [
    "import os\n",
    "import sys\n",
    "from datetime import datetime\n",
    "import multiprocessing\n",
    "\n",
    "import numpy as np\n",
    "from nltk import sent_tokenize, word_tokenize\n",
    "import gensim.models.word2vec as w2v"
   ]
  },
  {
   "cell_type": "code",
   "execution_count": 41,
   "metadata": {
    "collapsed": true,
    "deletable": true,
    "editable": true
   },
   "outputs": [],
   "source": [
    "class Word2ID():\n",
    "    \n",
    "    def __init__(self, corpus_or_file, logging=True, **kwargs):\n",
    "        # Corpus\n",
    "        if os.path.isfile(corpus_or_file):\n",
    "            self._corpus = open(corpus_or_file, encoding='utf-8').read()\n",
    "        else:\n",
    "            self._corpus = corpus_or_file\n",
    "        # Logging\n",
    "        if 'logging' in kwargs:\n",
    "            self._logging = kwargs['logging']\n",
    "            del kwargs['logging']\n",
    "        else:\n",
    "            self._logging = True\n",
    "        # Creating sentences\n",
    "        raw_sentences = sent_tokenize(self._corpus)\n",
    "        self._sentences = [word_tokenize(sent) for sent in raw_sentences]\n",
    "        del raw_sentences  # Free some memory\n",
    "        # Word2Vec model\n",
    "        kwargs['workers'] = multiprocessing.cpu_count()\n",
    "        kwargs['size'] = kwargs['size'] if 'size' in kwargs else 50\n",
    "        self._w2v = w2v.Word2Vec(sentences=self._sentences, **kwargs)"
   ]
  },
  {
   "cell_type": "code",
   "execution_count": 42,
   "metadata": {
    "collapsed": true,
    "deletable": true,
    "editable": true
   },
   "outputs": [],
   "source": [
    "corpus = 'Hello, my name is Victor. I am the coolest dude in the whole of planet earth. A determined programmer and AI researcher and engineer'"
   ]
  },
  {
   "cell_type": "code",
   "execution_count": 43,
   "metadata": {
    "collapsed": false,
    "deletable": true,
    "editable": true
   },
   "outputs": [],
   "source": [
    "w2id = Word2ID('datasets/negativeReviews/0_3.txt')"
   ]
  },
  {
   "cell_type": "code",
   "execution_count": 47,
   "metadata": {
    "collapsed": false,
    "deletable": true,
    "editable": true
   },
   "outputs": [
    {
     "data": {
      "text/plain": [
       "11"
      ]
     },
     "execution_count": 47,
     "metadata": {},
     "output_type": "execute_result"
    }
   ],
   "source": [
    "w2id._w2v.train(w2id._sentences, total_examples=10, epochs=10)"
   ]
  },
  {
   "cell_type": "code",
   "execution_count": null,
   "metadata": {
    "collapsed": true,
    "deletable": true,
    "editable": true
   },
   "outputs": [],
   "source": []
  }
 ],
 "metadata": {
  "kernelspec": {
   "display_name": "Python 3",
   "language": "python",
   "name": "python3"
  },
  "language_info": {
   "codemirror_mode": {
    "name": "ipython",
    "version": 3
   },
   "file_extension": ".py",
   "mimetype": "text/x-python",
   "name": "python",
   "nbconvert_exporter": "python",
   "pygments_lexer": "ipython3",
   "version": "3.6.3"
  }
 },
 "nbformat": 4,
 "nbformat_minor": 2
}
